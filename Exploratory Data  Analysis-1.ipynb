{
 "cells": [
  {
   "cell_type": "markdown",
   "metadata": {},
   "source": [
    "Q1. What are the key features of the wine quality data set? Discuss the importance of each feature in\n",
    "predicting the quality of wine."
   ]
  },
  {
   "cell_type": "markdown",
   "metadata": {},
   "source": [
    "ANS = Key features of the wine quality dataset include acidity levels, residual sugar, alcohol content, pH, and sulphates. Acidity levels affect the taste and perceived quality of wine. Residual sugar contributes to sweetness and body. Alcohol content influences flavor intensity and mouthfeel. pH impacts acidity perception and wine stability. Sulphates act as preservatives and affect aroma and taste.\n",
    "\n"
   ]
  },
  {
   "cell_type": "markdown",
   "metadata": {},
   "source": [
    "Q2. How did you handle missing data in the wine quality data set during the feature engineering process?\n",
    "Discuss the advantages and disadvantages of different imputation techniques."
   ]
  },
  {
   "cell_type": "markdown",
   "metadata": {},
   "source": [
    "ANS =  Missing data in the wine quality dataset was handled by imputation techniques such as mean, median, or mode imputation. Mean imputation replaces missing values with the mean of the feature, preserving the overall distribution but may distort relationships. Median imputation replaces missing values with the median, robust to outliers but may underestimate variability. Mode imputation replaces missing values with the mode, suitable for categorical data but may lead to biased estimates."
   ]
  },
  {
   "cell_type": "markdown",
   "metadata": {},
   "source": [
    "Q3. What are the key factors that affect students' performance in exams? How would you go about\n",
    "analyzing these factors using statistical techniques?"
   ]
  },
  {
   "cell_type": "markdown",
   "metadata": {},
   "source": [
    "ANS= Key factors affecting students' exam performance include study habits, attendance, prior academic performance, socioeconomic status, and test anxiety. Statistical techniques such as correlation analysis, regression modeling, and hypothesis testing can be used to analyze these factors. Correlation analysis identifies relationships between variables, regression modeling predicts exam scores based on predictors, and hypothesis testing evaluates the significance of factors."
   ]
  },
  {
   "cell_type": "markdown",
   "metadata": {},
   "source": [
    "Q4. Describe the process of feature engineering in the context of the student performance data set. How\n",
    "did you select and transform the variables for your model?"
   ]
  },
  {
   "cell_type": "markdown",
   "metadata": {},
   "source": [
    "Feature engineering involves selecting, creating, and transforming variables to improve model performance. In the student performance dataset, variables were selected based on relevance to academic performance, such as study time, parental education, and internet access. Transformation techniques like scaling or normalization were applied to ensure variables were on the same scale, enhancing model interpretability and stability."
   ]
  },
  {
   "cell_type": "markdown",
   "metadata": {},
   "source": [
    "Q5. Load the wine quality data set and perform exploratory data analysis (EDA) to identify the distribution\n",
    "of each feature. Which feature(s) exhibit non-normality, and what transformations could be applied to\n",
    "these features to improve normality?"
   ]
  },
  {
   "cell_type": "markdown",
   "metadata": {},
   "source": [
    "ANS  = Exploratory data analysis (EDA) of the wine quality dataset revealed that features such as residual sugar and sulphates exhibit non-normal distributions. Transformations like log transformation or box-cox transformation could be applied to these features to improve normality and meet the assumptions of parametric statistical tests."
   ]
  },
  {
   "cell_type": "markdown",
   "metadata": {},
   "source": [
    "Q6. Using the wine quality data set, perform principal component analysis (PCA) to reduce the number of\n",
    "features. What is the minimum number of principal components required to explain 90% of the variance in\n",
    "the data?"
   ]
  },
  {
   "cell_type": "markdown",
   "metadata": {},
   "source": [
    "ANS  = Principal component analysis (PCA) was performed on the wine quality dataset to reduce dimensionality while preserving variance. The minimum number of principal components required to explain 90% of the variance in the data was determined by examining the cumulative explained variance ratio."
   ]
  }
 ],
 "metadata": {
  "language_info": {
   "name": "python"
  }
 },
 "nbformat": 4,
 "nbformat_minor": 2
}
